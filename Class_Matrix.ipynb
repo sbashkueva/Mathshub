{
  "nbformat": 4,
  "nbformat_minor": 0,
  "metadata": {
    "colab": {
      "provenance": [],
      "authorship_tag": "ABX9TyNYFIEmUvuUK/uHTahrmMn0",
      "include_colab_link": true
    },
    "kernelspec": {
      "name": "python3",
      "display_name": "Python 3"
    },
    "language_info": {
      "name": "python"
    }
  },
  "cells": [
    {
      "cell_type": "markdown",
      "metadata": {
        "id": "view-in-github",
        "colab_type": "text"
      },
      "source": [
        "<a href=\"https://colab.research.google.com/github/sbashkueva/Mathshub/blob/main/Class_Matrix.ipynb\" target=\"_parent\"><img src=\"https://colab.research.google.com/assets/colab-badge.svg\" alt=\"Open In Colab\"/></a>"
      ]
    },
    {
      "cell_type": "code",
      "execution_count": null,
      "metadata": {
        "id": "NeQd4gU1SmzX"
      },
      "outputs": [],
      "source": [
        "from sys import stdin\n",
        "import copy\n",
        "\n",
        "# Creating class Matrix\n",
        "class Matrix: \n",
        "\n",
        "    def __init__(self, list_of_lists):\n",
        "        self.matrix = copy.deepcopy(list_of_lists) # copy of content, if initial list is changed, copy is not changed\n",
        "\n",
        "    def __str__(self): # method for transforming matrix to string\n",
        "        strings = []\n",
        "        for row in self.matrix:\n",
        "            row_list = list(map(str, [elem for elem in row]))\n",
        "            strings.append('\\t'.join(row_list))\n",
        "        return '\\n'.join(strings)\n",
        "\n",
        "    def size(self): # tuple (number of rows, nimber of columns) for matrix\n",
        "        return (len(self.matrix), len(self.matrix[0]))\n",
        "\n",
        "    def __add__(self, other): # sum of two matrices\n",
        "        if self.size() != other.size(): # checking for similar size\n",
        "          raise MatrixError(self, other)\n",
        "        sum = []\n",
        "        for x, y in zip(self.matrix, other.matrix):\n",
        "          row_sum = []\n",
        "          for elem1, elem2 in zip(x,y):\n",
        "            row_sum.append(elem1 + elem2)\n",
        "          sum.append(row_sum)\n",
        "        return type(self)(sum)\n",
        "\n",
        "    def __mul__(self, n): # scalar multiplication\n",
        "        mul_matrix = []\n",
        "        for row in self.matrix:\n",
        "          row_mul = []\n",
        "          for col in row:\n",
        "            row_mul.append(n*col)\n",
        "          mul_matrix.append(row_mul)\n",
        "        return type(self)(mul_matrix)\n",
        "\n",
        "    __rmul__ = __mul__\n",
        "    \n",
        "    def transpose(self): # transpose of a matrix, changing class element\n",
        "        trans_matrix = [list(new_row) for new_row in list(zip(*self.matrix))]\n",
        "        self.matrix = trans_matrix\n",
        "        return self\n",
        "\n",
        "    @staticmethod\n",
        "    def transposed(self): # transpose of a matrix without changing class element\n",
        "        return type(self)([list(new_row) for new_row in list(zip(*self.matrix))])\n",
        "\n",
        "\n",
        "class MatrixError(BaseException):\n",
        "\n",
        "    def __init__(self, matrix1, matrix2):\n",
        "        self.matrix1 = matrix1\n",
        "        self.matrix2 = matrix2\n",
        "\n",
        "exec(stdin.read())"
      ]
    }
  ]
}