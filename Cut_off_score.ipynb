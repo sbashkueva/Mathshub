{
  "nbformat": 4,
  "nbformat_minor": 0,
  "metadata": {
    "colab": {
      "provenance": [],
      "authorship_tag": "ABX9TyNixbRZXc2K8mJOmHBzosGK",
      "include_colab_link": true
    },
    "kernelspec": {
      "name": "python3",
      "display_name": "Python 3"
    },
    "language_info": {
      "name": "python"
    }
  },
  "cells": [
    {
      "cell_type": "markdown",
      "metadata": {
        "id": "view-in-github",
        "colab_type": "text"
      },
      "source": [
        "<a href=\"https://colab.research.google.com/github/sbashkueva/Mathshub/blob/main/Cut_off_score.ipynb\" target=\"_parent\"><img src=\"https://colab.research.google.com/assets/colab-badge.svg\" alt=\"Open In Colab\"/></a>"
      ]
    },
    {
      "cell_type": "code",
      "execution_count": 6,
      "metadata": {
        "colab": {
          "base_uri": "https://localhost:8080/"
        },
        "id": "bT5iusbH2PNS",
        "outputId": "69e69c0c-603b-4711-fcf8-7df43435f827"
      },
      "outputs": [
        {
          "output_type": "stream",
          "name": "stdout",
          "text": [
            "Number of students to be accepted =  5\n",
            "\n",
            "Students list:\n",
            "\n",
            "Иванов Сергей 70 70 70\n",
            "\n",
            "Сергеев Петр 100 100 0\n",
            "\n",
            "Петров Василий 70 60 70\n",
            "\n",
            "Васильев Андрей 70 60 70\n",
            "\n",
            "Андреев Денис 100 30 100\n",
            "\n",
            "Денисов Роман 50 50 50\n",
            "\n",
            "Романов Иван 60 70 70\n",
            "\n",
            "Ким Чен Ир 50 50 50\n",
            "\n",
            "Ким Ир Сен 40 40 40\n",
            "\n",
            "Cut-off score =  200\n"
          ]
        }
      ],
      "source": [
        "with open('input.txt', 'r', encoding = 'utf-8') as file:\n",
        "  n = int(file.readlines()[0]) # max number of students that can be accepted\n",
        "  print('Number of students to be accepted = ', n) \n",
        "\n",
        "with open('input.txt', 'r', encoding = 'utf-8') as file:\n",
        "  scores=[] # list of scores\n",
        "  next(file) # next row with students names and grades\n",
        "  print('\\nStudents list:\\n')\n",
        "  for line in file:\n",
        "    print(line)\n",
        "    score_1 = int(line.split()[-3])\n",
        "    score_2 = int(line.split()[-2])\n",
        "    score_3 = int(line.split()[-1])\n",
        "    #if each grade >= 40 than the exam is passed\n",
        "    if score_1 >= 40 and score_2 >= 40 and score_3 >= 40: \n",
        "      sum = score_1 + score_2 + score_3 # total score\n",
        "      scores.append(sum)\n",
        "    else: # if one or more grades < 40, then student is not accepted\n",
        "      pass\n",
        "    \n",
        "  scores=sorted(scores, reverse=True)\n",
        "  # if number of applicants is less than max number of potential students, ans=0\n",
        "  if len(scores)<=n:   \n",
        "    ans = 0\n",
        "  # if number of applicants having the same max score > n, then ans=1\n",
        "  elif len(set(scores[:n])) == 1 and len(list(filter(lambda score: score >=\\\n",
        "                                                     scores[n-1], scores))) > n:\n",
        "    ans = 1\n",
        "  else:\n",
        "    # check for equality of scores for n and (n+1) applicants\n",
        "    # if they equal, drop applicant n\n",
        "    if scores[n-1] == scores[n]:  \n",
        "      scores_new = list(filter(lambda score: score > scores[n-1], scores)) \n",
        "      ans=min(scores_new)\n",
        "    else:\n",
        "      ans = scores[n-1] # cut-off score\n",
        "  \n",
        "  print('\\nCut-off score = ', ans)"
      ]
    }
  ]
}