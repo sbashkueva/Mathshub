{
  "nbformat": 4,
  "nbformat_minor": 0,
  "metadata": {
    "colab": {
      "provenance": [],
      "include_colab_link": true
    },
    "kernelspec": {
      "name": "python3",
      "display_name": "Python 3"
    },
    "language_info": {
      "name": "python"
    }
  },
  "cells": [
    {
      "cell_type": "markdown",
      "metadata": {
        "id": "view-in-github",
        "colab_type": "text"
      },
      "source": [
        "<a href=\"https://colab.research.google.com/github/sbashkueva/Mathshub/blob/main/Sorting_algorithms.ipynb\" target=\"_parent\"><img src=\"https://colab.research.google.com/assets/colab-badge.svg\" alt=\"Open In Colab\"/></a>"
      ]
    },
    {
      "cell_type": "markdown",
      "source": [
        "# 1. Bubble sort"
      ],
      "metadata": {
        "id": "R40sUyAIV3r2"
      }
    },
    {
      "cell_type": "code",
      "source": [
        "# Bubble sort in ascending order\n",
        "def bubble_sort(arr):\n",
        "  n = len(arr)\n",
        "  # each element of the array is compared with other elements\n",
        "  for i in range(n): \n",
        "    for j in range(n-i-1):\n",
        "      # if it's greater than the next, they are getting swapped\n",
        "      if arr[j] > arr[j+1]: \n",
        "        arr[j], arr[j+1] = arr[j+1], arr[j]\n",
        "  return arr\n",
        "\n",
        "bubble_sort([4,7,23,9,11,0])"
      ],
      "metadata": {
        "colab": {
          "base_uri": "https://localhost:8080/"
        },
        "id": "tAesNYYXV8JU",
        "outputId": "c3ec0525-311d-4860-a98d-20a4e802f54d"
      },
      "execution_count": null,
      "outputs": [
        {
          "output_type": "execute_result",
          "data": {
            "text/plain": [
              "[0, 4, 7, 9, 11, 23]"
            ]
          },
          "metadata": {},
          "execution_count": 1
        }
      ]
    },
    {
      "cell_type": "markdown",
      "source": [
        "# 2. Selection sort"
      ],
      "metadata": {
        "id": "L2oarbDzXXJU"
      }
    },
    {
      "cell_type": "code",
      "source": [
        "# Selection sort in ascending order\n",
        "def selection_sort(arr):\n",
        "  n = len(arr)\n",
        "  for i in range(n):\n",
        "    # setting minimum for a current element and compare with further elements\n",
        "    min_idx = i \n",
        "    for j in range(i+1, n):\n",
        "      # if next element is smaller than a current min, reset min\n",
        "      if arr[j] < arr[min_idx]:  \n",
        "        min_idx = j\n",
        "    # swapping current and new min elements\n",
        "    arr[i], arr[min_idx] = arr[min_idx], arr[i] \n",
        "  return arr\n",
        "\n",
        "selection_sort([4,7,23,9,11,0])"
      ],
      "metadata": {
        "colab": {
          "base_uri": "https://localhost:8080/"
        },
        "id": "P9ydrylOXaFa",
        "outputId": "97580c4f-faf1-48d0-907b-b663a545a206"
      },
      "execution_count": null,
      "outputs": [
        {
          "output_type": "execute_result",
          "data": {
            "text/plain": [
              "[0, 4, 7, 9, 11, 23]"
            ]
          },
          "metadata": {},
          "execution_count": 2
        }
      ]
    },
    {
      "cell_type": "markdown",
      "source": [
        "#3. Quick sort"
      ],
      "metadata": {
        "id": "sh_hSa-y1ZP4"
      }
    },
    {
      "cell_type": "code",
      "source": [
        "# Pivot as the last element in the nums list\n",
        "\n",
        "# Function to find the partition position\n",
        "def partition(array, low, high):\n",
        " \n",
        "    # choose the last element as pivot\n",
        "    pivot = array[high]\n",
        " \n",
        "    # pointer for greater element\n",
        "    i = low - 1\n",
        " \n",
        "    # going through all elements, compare each element with pivot\n",
        "    for j in range(low, high):\n",
        "        if array[j] <= pivot:\n",
        " \n",
        "            # If element smaller than pivot, swap it with the greater element pointed by i\n",
        "            i = i + 1\n",
        "            # Swapping element at i with element at j\n",
        "            array[i], array[j] = array[j], array[i]\n",
        " \n",
        "    # Swap the pivot element with the greater element specified by i\n",
        "    array[i + 1], array[high] = array[high], array[i + 1]\n",
        " \n",
        "    # Return the position from where partition is done\n",
        "    return i + 1\n",
        " \n",
        "\n",
        "# function to perform quicksort\n",
        "def quickSort(array, low, high):\n",
        "    if low < high:\n",
        " \n",
        "        # Find pivot element such that element smaller than pivot are on the left, element greater than pivot are on the right\n",
        "        pi = partition(array, low, high)\n",
        " \n",
        "        # Recursive call on the left of pivot\n",
        "        quickSort(array, low, pi - 1)\n",
        " \n",
        "        # Recursive call on the right of pivot\n",
        "        quickSort(array, pi + 1, high)"
      ],
      "metadata": {
        "id": "KkTZw4ei1dSz"
      },
      "execution_count": null,
      "outputs": []
    },
    {
      "cell_type": "code",
      "source": [
        "data = [1, 7, 4, 1, 10, 9, -2]\n",
        "print('Unsorted array')\n",
        "print(data)\n",
        " \n",
        "size = len(data)\n",
        " \n",
        "quickSort(data, 0, size - 1)\n",
        " \n",
        "print('Sorted array in ascending order:')\n",
        "print(data)"
      ],
      "metadata": {
        "colab": {
          "base_uri": "https://localhost:8080/"
        },
        "id": "3oVqny9r9I_F",
        "outputId": "fb0ba01c-026c-4591-9125-27fcbfd06fcb"
      },
      "execution_count": null,
      "outputs": [
        {
          "output_type": "stream",
          "name": "stdout",
          "text": [
            "Unsorted array\n",
            "[1, 7, 4, 1, 10, 9, -2]\n",
            "Sorted array in ascending order:\n",
            "[-2, 1, 1, 4, 7, 9, 10]\n"
          ]
        }
      ]
    }
  ]
}