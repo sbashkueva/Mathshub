{
  "nbformat": 4,
  "nbformat_minor": 0,
  "metadata": {
    "colab": {
      "provenance": [],
      "authorship_tag": "ABX9TyMLR3tXUcMLZY3/0vJUheiq",
      "include_colab_link": true
    },
    "kernelspec": {
      "name": "python3",
      "display_name": "Python 3"
    },
    "language_info": {
      "name": "python"
    }
  },
  "cells": [
    {
      "cell_type": "markdown",
      "metadata": {
        "id": "view-in-github",
        "colab_type": "text"
      },
      "source": [
        "<a href=\"https://colab.research.google.com/github/sbashkueva/Mathshub/blob/main/Sorting_algorytms.ipynb\" target=\"_parent\"><img src=\"https://colab.research.google.com/assets/colab-badge.svg\" alt=\"Open In Colab\"/></a>"
      ]
    },
    {
      "cell_type": "markdown",
      "source": [
        "# 1. Bubble sort"
      ],
      "metadata": {
        "id": "R40sUyAIV3r2"
      }
    },
    {
      "cell_type": "code",
      "source": [
        "# Bubble sort in ascending order\n",
        "def bubble_sort(arr):\n",
        "  n = len(arr)\n",
        "  for i in range(n): # each element of the array is compared with other elements\n",
        "    for j in range(n-i-1):\n",
        "      if arr[j] > arr[j+1]: # if it's greater than the next, they are getting swapped\n",
        "        arr[j], arr[j+1] = arr[j+1], arr[j]\n",
        "  return arr\n",
        "\n",
        "bubble_sort([4,7,23,9,11,0])"
      ],
      "metadata": {
        "colab": {
          "base_uri": "https://localhost:8080/"
        },
        "id": "tAesNYYXV8JU",
        "outputId": "c3ec0525-311d-4860-a98d-20a4e802f54d"
      },
      "execution_count": 1,
      "outputs": [
        {
          "output_type": "execute_result",
          "data": {
            "text/plain": [
              "[0, 4, 7, 9, 11, 23]"
            ]
          },
          "metadata": {},
          "execution_count": 1
        }
      ]
    },
    {
      "cell_type": "markdown",
      "source": [
        "# 2. Selection sort"
      ],
      "metadata": {
        "id": "L2oarbDzXXJU"
      }
    },
    {
      "cell_type": "code",
      "source": [
        "# Selection sort in ascending order\n",
        "def selection_sort(arr):\n",
        "  n = len(arr)\n",
        "  for i in range(n):\n",
        "    min_idx = i # setting minimum for a current element and compare with further elements\n",
        "    for j in range(i+1, n): \n",
        "      if arr[j] < arr[min_idx]: # if next element is smaller than a current min, reset min \n",
        "        min_idx = j\n",
        "    arr[i], arr[min_idx] = arr[min_idx], arr[i] # swapping current and new min elements\n",
        "  return arr\n",
        "\n",
        "selection_sort([4,7,23,9,11,0])"
      ],
      "metadata": {
        "colab": {
          "base_uri": "https://localhost:8080/"
        },
        "id": "P9ydrylOXaFa",
        "outputId": "97580c4f-faf1-48d0-907b-b663a545a206"
      },
      "execution_count": 2,
      "outputs": [
        {
          "output_type": "execute_result",
          "data": {
            "text/plain": [
              "[0, 4, 7, 9, 11, 23]"
            ]
          },
          "metadata": {},
          "execution_count": 2
        }
      ]
    }
  ]
}
