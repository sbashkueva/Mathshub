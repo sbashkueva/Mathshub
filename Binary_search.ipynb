{
  "nbformat": 4,
  "nbformat_minor": 0,
  "metadata": {
    "colab": {
      "provenance": [],
      "authorship_tag": "ABX9TyNhIMAeveLU7iKloDm4+6Ch",
      "include_colab_link": true
    },
    "kernelspec": {
      "name": "python3",
      "display_name": "Python 3"
    },
    "language_info": {
      "name": "python"
    }
  },
  "cells": [
    {
      "cell_type": "markdown",
      "metadata": {
        "id": "view-in-github",
        "colab_type": "text"
      },
      "source": [
        "<a href=\"https://colab.research.google.com/github/sbashkueva/Mathshub/blob/main/Binary_search.ipynb\" target=\"_parent\"><img src=\"https://colab.research.google.com/assets/colab-badge.svg\" alt=\"Open In Colab\"/></a>"
      ]
    },
    {
      "cell_type": "code",
      "execution_count": 1,
      "metadata": {
        "colab": {
          "base_uri": "https://localhost:8080/"
        },
        "id": "YFSVWT5mre5X",
        "outputId": "90279927-d3ac-408a-b3d2-f1ee4230be9f"
      },
      "outputs": [
        {
          "output_type": "stream",
          "name": "stdout",
          "text": [
            "4\n",
            "1 2 6 10\n",
            "2\n",
            "7 3\n",
            "2\n",
            "2\n",
            "1\n",
            "1\n"
          ]
        }
      ],
      "source": [
        "def binary_search(array, element): # the function finds the nearest school for each village using binary search algorithm\n",
        "  if element <= array[0][1]: # if the village is located nearer from the road start than the first school, return the 1st school  \n",
        "    return array[0][0]\n",
        "  if element >= array[-1][1]: # if the village is located further from the road start than the last school, return the last school \n",
        "    return array[-1][0]\n",
        "\n",
        "  start=0\n",
        "  end=m-1\n",
        "  mid=0\n",
        "  while end-start > 1:\n",
        "    mid = (start+end) // 2 # setting the middle index as the interval center\n",
        "\n",
        "    if element < array[mid][1]: # if the village distance is less than the distance for middle school,\\\\\n",
        "                                # new interval end is former middle element\n",
        "      end = mid\n",
        "    else:\n",
        "      start = mid # if the village distance is longer than the distance for middle school,\\\\ \n",
        "                  # new interval start is former middle element\n",
        "\n",
        "  if element-array[start][1] < array[end][1]-element: # for a list with 2 schools left,\\\\\n",
        "                                                      # we check which school is closer to the village (start or end)\n",
        "    return array[start][0]\n",
        "  else:\n",
        "    return array[end][0]\n",
        "\n",
        "n = int(input()) # number of villages\n",
        "villages = map(int, input().split()) # the distances from the road start to the village\n",
        "m = int(input()) # number of schools\n",
        "schools = [[i+1, int(j)] for i,j in enumerate(input().split())] # list of the serial numbers of schools \\\\\n",
        "# and corresponding distances from the road start to each school\n",
        "schools.sort(key = lambda x: x[1]) # sortig the list of schools in ascending order of distances from the the road start\n",
        "\n",
        "for village in villages: # for each village print the serial number of the nearest school\n",
        "  print(binary_search(schools, village))"
      ]
    }
  ]
}
